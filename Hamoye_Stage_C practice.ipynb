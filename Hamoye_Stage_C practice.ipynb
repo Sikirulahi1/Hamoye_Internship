{
 "cells": [
  {
   "cell_type": "code",
   "execution_count": 1,
   "id": "e56a14b4",
   "metadata": {},
   "outputs": [],
   "source": [
    "import pandas as pd\n",
    "import numpy as np"
   ]
  },
  {
   "cell_type": "code",
   "execution_count": 2,
   "id": "60642f3b",
   "metadata": {},
   "outputs": [
    {
     "data": {
      "text/html": [
       "<div>\n",
       "<style scoped>\n",
       "    .dataframe tbody tr th:only-of-type {\n",
       "        vertical-align: middle;\n",
       "    }\n",
       "\n",
       "    .dataframe tbody tr th {\n",
       "        vertical-align: top;\n",
       "    }\n",
       "\n",
       "    .dataframe thead th {\n",
       "        text-align: right;\n",
       "    }\n",
       "</style>\n",
       "<table border=\"1\" class=\"dataframe\">\n",
       "  <thead>\n",
       "    <tr style=\"text-align: right;\">\n",
       "      <th></th>\n",
       "      <th>country</th>\n",
       "      <th>year</th>\n",
       "      <th>country_code</th>\n",
       "      <th>record</th>\n",
       "      <th>crop_land</th>\n",
       "      <th>grazing_land</th>\n",
       "      <th>forest_land</th>\n",
       "      <th>fishing_ground</th>\n",
       "      <th>built_up_land</th>\n",
       "      <th>carbon</th>\n",
       "      <th>total</th>\n",
       "      <th>QScore</th>\n",
       "    </tr>\n",
       "  </thead>\n",
       "  <tbody>\n",
       "    <tr>\n",
       "      <th>0</th>\n",
       "      <td>Armenia</td>\n",
       "      <td>1992</td>\n",
       "      <td>1</td>\n",
       "      <td>AreaPerCap</td>\n",
       "      <td>1.402924e-01</td>\n",
       "      <td>1.995463e-01</td>\n",
       "      <td>0.097188051</td>\n",
       "      <td>3.688847e-02</td>\n",
       "      <td>2.931995e-02</td>\n",
       "      <td>0.000000e+00</td>\n",
       "      <td>5.032351e-01</td>\n",
       "      <td>3A</td>\n",
       "    </tr>\n",
       "    <tr>\n",
       "      <th>1</th>\n",
       "      <td>Armenia</td>\n",
       "      <td>1992</td>\n",
       "      <td>1</td>\n",
       "      <td>AreaTotHA</td>\n",
       "      <td>4.830000e+05</td>\n",
       "      <td>6.870000e+05</td>\n",
       "      <td>334600</td>\n",
       "      <td>1.270000e+05</td>\n",
       "      <td>1.009430e+05</td>\n",
       "      <td>0.000000e+00</td>\n",
       "      <td>1.732543e+06</td>\n",
       "      <td>3A</td>\n",
       "    </tr>\n",
       "    <tr>\n",
       "      <th>2</th>\n",
       "      <td>Armenia</td>\n",
       "      <td>1992</td>\n",
       "      <td>1</td>\n",
       "      <td>BiocapPerCap</td>\n",
       "      <td>1.598044e-01</td>\n",
       "      <td>1.352610e-01</td>\n",
       "      <td>0.084003213</td>\n",
       "      <td>1.374213e-02</td>\n",
       "      <td>3.339780e-02</td>\n",
       "      <td>0.000000e+00</td>\n",
       "      <td>4.262086e-01</td>\n",
       "      <td>3A</td>\n",
       "    </tr>\n",
       "    <tr>\n",
       "      <th>3</th>\n",
       "      <td>Armenia</td>\n",
       "      <td>1992</td>\n",
       "      <td>1</td>\n",
       "      <td>BiocapTotGHA</td>\n",
       "      <td>5.501762e+05</td>\n",
       "      <td>4.656780e+05</td>\n",
       "      <td>289207.1078</td>\n",
       "      <td>4.731155e+04</td>\n",
       "      <td>1.149823e+05</td>\n",
       "      <td>0.000000e+00</td>\n",
       "      <td>1.467355e+06</td>\n",
       "      <td>3A</td>\n",
       "    </tr>\n",
       "    <tr>\n",
       "      <th>4</th>\n",
       "      <td>Armenia</td>\n",
       "      <td>1992</td>\n",
       "      <td>1</td>\n",
       "      <td>EFConsPerCap</td>\n",
       "      <td>3.875102e-01</td>\n",
       "      <td>1.894622e-01</td>\n",
       "      <td>1.26E-06</td>\n",
       "      <td>4.164833e-03</td>\n",
       "      <td>3.339780e-02</td>\n",
       "      <td>1.114093e+00</td>\n",
       "      <td>1.728629e+00</td>\n",
       "      <td>3A</td>\n",
       "    </tr>\n",
       "    <tr>\n",
       "      <th>...</th>\n",
       "      <td>...</td>\n",
       "      <td>...</td>\n",
       "      <td>...</td>\n",
       "      <td>...</td>\n",
       "      <td>...</td>\n",
       "      <td>...</td>\n",
       "      <td>...</td>\n",
       "      <td>...</td>\n",
       "      <td>...</td>\n",
       "      <td>...</td>\n",
       "      <td>...</td>\n",
       "      <td>...</td>\n",
       "    </tr>\n",
       "    <tr>\n",
       "      <th>72181</th>\n",
       "      <td>World</td>\n",
       "      <td>2016</td>\n",
       "      <td>5001</td>\n",
       "      <td>BiocapTotGHA</td>\n",
       "      <td>3.984702e+09</td>\n",
       "      <td>1.504757e+09</td>\n",
       "      <td>5111762779</td>\n",
       "      <td>1.095445e+09</td>\n",
       "      <td>4.726163e+08</td>\n",
       "      <td>0.000000e+00</td>\n",
       "      <td>1.216928e+10</td>\n",
       "      <td>3A</td>\n",
       "    </tr>\n",
       "    <tr>\n",
       "      <th>72182</th>\n",
       "      <td>World</td>\n",
       "      <td>2016</td>\n",
       "      <td>5001</td>\n",
       "      <td>EFConsPerCap</td>\n",
       "      <td>5.336445e-01</td>\n",
       "      <td>1.402092e-01</td>\n",
       "      <td>0.273495416</td>\n",
       "      <td>8.974253e-02</td>\n",
       "      <td>6.329435e-02</td>\n",
       "      <td>1.646235e+00</td>\n",
       "      <td>2.746619e+00</td>\n",
       "      <td>3A</td>\n",
       "    </tr>\n",
       "    <tr>\n",
       "      <th>72183</th>\n",
       "      <td>World</td>\n",
       "      <td>2016</td>\n",
       "      <td>5001</td>\n",
       "      <td>EFConsTotGHA</td>\n",
       "      <td>3.984702e+09</td>\n",
       "      <td>1.046937e+09</td>\n",
       "      <td>2042179333</td>\n",
       "      <td>6.701039e+08</td>\n",
       "      <td>4.726163e+08</td>\n",
       "      <td>1.229237e+10</td>\n",
       "      <td>2.050891e+10</td>\n",
       "      <td>3A</td>\n",
       "    </tr>\n",
       "    <tr>\n",
       "      <th>72184</th>\n",
       "      <td>World</td>\n",
       "      <td>2016</td>\n",
       "      <td>5001</td>\n",
       "      <td>EFProdPerCap</td>\n",
       "      <td>5.336445e-01</td>\n",
       "      <td>1.402092e-01</td>\n",
       "      <td>0.273495416</td>\n",
       "      <td>8.974253e-02</td>\n",
       "      <td>6.329435e-02</td>\n",
       "      <td>1.646235e+00</td>\n",
       "      <td>2.746619e+00</td>\n",
       "      <td>3A</td>\n",
       "    </tr>\n",
       "    <tr>\n",
       "      <th>72185</th>\n",
       "      <td>World</td>\n",
       "      <td>2016</td>\n",
       "      <td>5001</td>\n",
       "      <td>EFProdTotGHA</td>\n",
       "      <td>3.984702e+09</td>\n",
       "      <td>1.046937e+09</td>\n",
       "      <td>2042179333</td>\n",
       "      <td>6.701039e+08</td>\n",
       "      <td>4.726163e+08</td>\n",
       "      <td>1.229237e+10</td>\n",
       "      <td>2.050891e+10</td>\n",
       "      <td>3A</td>\n",
       "    </tr>\n",
       "  </tbody>\n",
       "</table>\n",
       "<p>72186 rows × 12 columns</p>\n",
       "</div>"
      ],
      "text/plain": [
       "       country  year  country_code        record     crop_land  grazing_land  \\\n",
       "0      Armenia  1992             1    AreaPerCap  1.402924e-01  1.995463e-01   \n",
       "1      Armenia  1992             1     AreaTotHA  4.830000e+05  6.870000e+05   \n",
       "2      Armenia  1992             1  BiocapPerCap  1.598044e-01  1.352610e-01   \n",
       "3      Armenia  1992             1  BiocapTotGHA  5.501762e+05  4.656780e+05   \n",
       "4      Armenia  1992             1  EFConsPerCap  3.875102e-01  1.894622e-01   \n",
       "...        ...   ...           ...           ...           ...           ...   \n",
       "72181    World  2016          5001  BiocapTotGHA  3.984702e+09  1.504757e+09   \n",
       "72182    World  2016          5001  EFConsPerCap  5.336445e-01  1.402092e-01   \n",
       "72183    World  2016          5001  EFConsTotGHA  3.984702e+09  1.046937e+09   \n",
       "72184    World  2016          5001  EFProdPerCap  5.336445e-01  1.402092e-01   \n",
       "72185    World  2016          5001  EFProdTotGHA  3.984702e+09  1.046937e+09   \n",
       "\n",
       "       forest_land  fishing_ground  built_up_land        carbon         total  \\\n",
       "0      0.097188051    3.688847e-02   2.931995e-02  0.000000e+00  5.032351e-01   \n",
       "1           334600    1.270000e+05   1.009430e+05  0.000000e+00  1.732543e+06   \n",
       "2      0.084003213    1.374213e-02   3.339780e-02  0.000000e+00  4.262086e-01   \n",
       "3      289207.1078    4.731155e+04   1.149823e+05  0.000000e+00  1.467355e+06   \n",
       "4         1.26E-06    4.164833e-03   3.339780e-02  1.114093e+00  1.728629e+00   \n",
       "...            ...             ...            ...           ...           ...   \n",
       "72181   5111762779    1.095445e+09   4.726163e+08  0.000000e+00  1.216928e+10   \n",
       "72182  0.273495416    8.974253e-02   6.329435e-02  1.646235e+00  2.746619e+00   \n",
       "72183   2042179333    6.701039e+08   4.726163e+08  1.229237e+10  2.050891e+10   \n",
       "72184  0.273495416    8.974253e-02   6.329435e-02  1.646235e+00  2.746619e+00   \n",
       "72185   2042179333    6.701039e+08   4.726163e+08  1.229237e+10  2.050891e+10   \n",
       "\n",
       "      QScore  \n",
       "0         3A  \n",
       "1         3A  \n",
       "2         3A  \n",
       "3         3A  \n",
       "4         3A  \n",
       "...      ...  \n",
       "72181     3A  \n",
       "72182     3A  \n",
       "72183     3A  \n",
       "72184     3A  \n",
       "72185     3A  \n",
       "\n",
       "[72186 rows x 12 columns]"
      ]
     },
     "execution_count": 2,
     "metadata": {},
     "output_type": "execute_result"
    }
   ],
   "source": [
    "df = pd.read_csv(r\"C:\\Users\\karee\\Desktop\\Practice\\Dataset\\NFA 2019 public_data.csv\", low_memory = False)\n",
    "df"
   ]
  },
  {
   "cell_type": "code",
   "execution_count": 3,
   "id": "7fe962a1",
   "metadata": {},
   "outputs": [
    {
     "data": {
      "text/plain": [
       "3A    51481\n",
       "2A    10576\n",
       "2B    10096\n",
       "1A       16\n",
       "1B       16\n",
       "Name: QScore, dtype: int64"
      ]
     },
     "execution_count": 3,
     "metadata": {},
     "output_type": "execute_result"
    }
   ],
   "source": [
    "df['QScore'].value_counts()"
   ]
  },
  {
   "cell_type": "code",
   "execution_count": 4,
   "id": "4fb25b05",
   "metadata": {},
   "outputs": [
    {
     "data": {
      "text/plain": [
       "country               0\n",
       "year                  0\n",
       "country_code          0\n",
       "record                0\n",
       "crop_land         20472\n",
       "grazing_land      20472\n",
       "forest_land       20472\n",
       "fishing_ground    20473\n",
       "built_up_land     20473\n",
       "carbon            20473\n",
       "total                 9\n",
       "QScore                1\n",
       "dtype: int64"
      ]
     },
     "execution_count": 4,
     "metadata": {},
     "output_type": "execute_result"
    }
   ],
   "source": [
    "# To check for the missing values\n",
    "df.isna().sum()"
   ]
  },
  {
   "cell_type": "code",
   "execution_count": 5,
   "id": "f8071f88",
   "metadata": {},
   "outputs": [],
   "source": [
    "# Drop missing values\n",
    "df = df.dropna()"
   ]
  },
  {
   "cell_type": "code",
   "execution_count": 6,
   "id": "d0c99103",
   "metadata": {},
   "outputs": [
    {
     "data": {
      "text/plain": [
       "country           0\n",
       "year              0\n",
       "country_code      0\n",
       "record            0\n",
       "crop_land         0\n",
       "grazing_land      0\n",
       "forest_land       0\n",
       "fishing_ground    0\n",
       "built_up_land     0\n",
       "carbon            0\n",
       "total             0\n",
       "QScore            0\n",
       "dtype: int64"
      ]
     },
     "execution_count": 6,
     "metadata": {},
     "output_type": "execute_result"
    }
   ],
   "source": [
    "df.isna().sum()"
   ]
  },
  {
   "cell_type": "code",
   "execution_count": 7,
   "id": "40eeb2bd",
   "metadata": {},
   "outputs": [
    {
     "name": "stderr",
     "output_type": "stream",
     "text": [
      "C:\\Users\\karee\\AppData\\Local\\Temp\\ipykernel_15648\\2286544238.py:1: SettingWithCopyWarning: \n",
      "A value is trying to be set on a copy of a slice from a DataFrame.\n",
      "Try using .loc[row_indexer,col_indexer] = value instead\n",
      "\n",
      "See the caveats in the documentation: https://pandas.pydata.org/pandas-docs/stable/user_guide/indexing.html#returning-a-view-versus-a-copy\n",
      "  df['QScore'] = df['QScore'].replace(['1A'], '2A')\n",
      "C:\\Users\\karee\\AppData\\Local\\Temp\\ipykernel_15648\\2286544238.py:6: FutureWarning: The frame.append method is deprecated and will be removed from pandas in a future version. Use pandas.concat instead.\n",
      "  data_df = df_2A.append(df_3A)\n"
     ]
    }
   ],
   "source": [
    "df['QScore'] = df['QScore'].replace(['1A'], '2A')\n",
    "df_2A = df[df.QScore == '2A']\n",
    "\n",
    "# Taking a sample of 3A\n",
    "df_3A = df[df.QScore == '3A'].sample(350)\n",
    "data_df = df_2A.append(df_3A)"
   ]
  },
  {
   "cell_type": "code",
   "execution_count": 8,
   "id": "94f98ab6",
   "metadata": {},
   "outputs": [
    {
     "data": {
      "text/plain": [
       "3A    51473\n",
       "2A      240\n",
       "Name: QScore, dtype: int64"
      ]
     },
     "execution_count": 8,
     "metadata": {},
     "output_type": "execute_result"
    }
   ],
   "source": [
    "df['QScore'].value_counts()"
   ]
  },
  {
   "cell_type": "code",
   "execution_count": 9,
   "id": "4b51920c",
   "metadata": {},
   "outputs": [
    {
     "data": {
      "text/plain": [
       "3A    350\n",
       "2A    240\n",
       "Name: QScore, dtype: int64"
      ]
     },
     "execution_count": 9,
     "metadata": {},
     "output_type": "execute_result"
    }
   ],
   "source": [
    "import sklearn.utils\n",
    "data_df = sklearn.utils.shuffle(data_df)\n",
    "data_df = data_df.reset_index(drop = True)\n",
    "data_df.shape\n",
    "data_df.QScore.value_counts()"
   ]
  },
  {
   "cell_type": "code",
   "execution_count": 10,
   "id": "5156a357",
   "metadata": {},
   "outputs": [],
   "source": [
    "data_df = data_df.drop(columns=[ 'country_code' , 'country' , 'year' ])"
   ]
  },
  {
   "cell_type": "code",
   "execution_count": 11,
   "id": "7e81f662",
   "metadata": {},
   "outputs": [
    {
     "data": {
      "text/html": [
       "<div>\n",
       "<style scoped>\n",
       "    .dataframe tbody tr th:only-of-type {\n",
       "        vertical-align: middle;\n",
       "    }\n",
       "\n",
       "    .dataframe tbody tr th {\n",
       "        vertical-align: top;\n",
       "    }\n",
       "\n",
       "    .dataframe thead th {\n",
       "        text-align: right;\n",
       "    }\n",
       "</style>\n",
       "<table border=\"1\" class=\"dataframe\">\n",
       "  <thead>\n",
       "    <tr style=\"text-align: right;\">\n",
       "      <th></th>\n",
       "      <th>record</th>\n",
       "      <th>crop_land</th>\n",
       "      <th>grazing_land</th>\n",
       "      <th>forest_land</th>\n",
       "      <th>fishing_ground</th>\n",
       "      <th>built_up_land</th>\n",
       "      <th>carbon</th>\n",
       "      <th>total</th>\n",
       "      <th>QScore</th>\n",
       "    </tr>\n",
       "  </thead>\n",
       "  <tbody>\n",
       "    <tr>\n",
       "      <th>0</th>\n",
       "      <td>AreaTotHA</td>\n",
       "      <td>4.174723e+04</td>\n",
       "      <td>7.797437e+04</td>\n",
       "      <td>1087805.411</td>\n",
       "      <td>3.880090e+05</td>\n",
       "      <td>15428.928360</td>\n",
       "      <td>0.000000</td>\n",
       "      <td>1.610965e+06</td>\n",
       "      <td>3A</td>\n",
       "    </tr>\n",
       "    <tr>\n",
       "      <th>1</th>\n",
       "      <td>BiocapTotGHA</td>\n",
       "      <td>3.231843e+06</td>\n",
       "      <td>2.142914e+06</td>\n",
       "      <td>1218813.839</td>\n",
       "      <td>1.359047e+06</td>\n",
       "      <td>440160.726500</td>\n",
       "      <td>0.000000</td>\n",
       "      <td>8.392779e+06</td>\n",
       "      <td>3A</td>\n",
       "    </tr>\n",
       "    <tr>\n",
       "      <th>2</th>\n",
       "      <td>EFProdTotGHA</td>\n",
       "      <td>2.787397e+06</td>\n",
       "      <td>4.983741e+05</td>\n",
       "      <td>2050482.342</td>\n",
       "      <td>1.057658e+05</td>\n",
       "      <td>283976.814000</td>\n",
       "      <td>184651.311900</td>\n",
       "      <td>5.910647e+06</td>\n",
       "      <td>3A</td>\n",
       "    </tr>\n",
       "    <tr>\n",
       "      <th>3</th>\n",
       "      <td>AreaPerCap</td>\n",
       "      <td>1.138282e-01</td>\n",
       "      <td>2.636969e-02</td>\n",
       "      <td>0.13245</td>\n",
       "      <td>1.969317e-01</td>\n",
       "      <td>0.021670</td>\n",
       "      <td>0.000000</td>\n",
       "      <td>4.912494e-01</td>\n",
       "      <td>3A</td>\n",
       "    </tr>\n",
       "    <tr>\n",
       "      <th>4</th>\n",
       "      <td>EFConsPerCap</td>\n",
       "      <td>9.638004e-01</td>\n",
       "      <td>3.543877e-01</td>\n",
       "      <td>0.473933988</td>\n",
       "      <td>1.382884e-01</td>\n",
       "      <td>0.098030</td>\n",
       "      <td>3.098552</td>\n",
       "      <td>5.126992e+00</td>\n",
       "      <td>2A</td>\n",
       "    </tr>\n",
       "    <tr>\n",
       "      <th>...</th>\n",
       "      <td>...</td>\n",
       "      <td>...</td>\n",
       "      <td>...</td>\n",
       "      <td>...</td>\n",
       "      <td>...</td>\n",
       "      <td>...</td>\n",
       "      <td>...</td>\n",
       "      <td>...</td>\n",
       "      <td>...</td>\n",
       "    </tr>\n",
       "    <tr>\n",
       "      <th>585</th>\n",
       "      <td>EFConsTotGHA</td>\n",
       "      <td>1.346115e+05</td>\n",
       "      <td>9.060700e+04</td>\n",
       "      <td>116097.2933</td>\n",
       "      <td>7.889400e+05</td>\n",
       "      <td>203.311157</td>\n",
       "      <td>833762.968500</td>\n",
       "      <td>1.964222e+06</td>\n",
       "      <td>2A</td>\n",
       "    </tr>\n",
       "    <tr>\n",
       "      <th>586</th>\n",
       "      <td>EFProdPerCap</td>\n",
       "      <td>4.254370e-01</td>\n",
       "      <td>1.109362e-01</td>\n",
       "      <td>0.115439124</td>\n",
       "      <td>7.045654e-02</td>\n",
       "      <td>0.098646</td>\n",
       "      <td>1.113905</td>\n",
       "      <td>1.934820e+00</td>\n",
       "      <td>3A</td>\n",
       "    </tr>\n",
       "    <tr>\n",
       "      <th>587</th>\n",
       "      <td>EFConsPerCap</td>\n",
       "      <td>2.724583e-01</td>\n",
       "      <td>3.338864e-01</td>\n",
       "      <td>0.00961623</td>\n",
       "      <td>3.944396e-02</td>\n",
       "      <td>0.026684</td>\n",
       "      <td>0.088306</td>\n",
       "      <td>7.703951e-01</td>\n",
       "      <td>3A</td>\n",
       "    </tr>\n",
       "    <tr>\n",
       "      <th>588</th>\n",
       "      <td>EFConsPerCap</td>\n",
       "      <td>3.668349e-01</td>\n",
       "      <td>2.469165e-01</td>\n",
       "      <td>0.316381046</td>\n",
       "      <td>2.149970e+00</td>\n",
       "      <td>0.000554</td>\n",
       "      <td>2.272118</td>\n",
       "      <td>5.352775e+00</td>\n",
       "      <td>2A</td>\n",
       "    </tr>\n",
       "    <tr>\n",
       "      <th>589</th>\n",
       "      <td>EFConsPerCap</td>\n",
       "      <td>3.199466e-01</td>\n",
       "      <td>3.129116e-02</td>\n",
       "      <td>0.282887253</td>\n",
       "      <td>6.931481e-01</td>\n",
       "      <td>0.161211</td>\n",
       "      <td>0.258083</td>\n",
       "      <td>1.746568e+00</td>\n",
       "      <td>2A</td>\n",
       "    </tr>\n",
       "  </tbody>\n",
       "</table>\n",
       "<p>590 rows × 9 columns</p>\n",
       "</div>"
      ],
      "text/plain": [
       "           record     crop_land  grazing_land  forest_land  fishing_ground  \\\n",
       "0       AreaTotHA  4.174723e+04  7.797437e+04  1087805.411    3.880090e+05   \n",
       "1    BiocapTotGHA  3.231843e+06  2.142914e+06  1218813.839    1.359047e+06   \n",
       "2    EFProdTotGHA  2.787397e+06  4.983741e+05  2050482.342    1.057658e+05   \n",
       "3      AreaPerCap  1.138282e-01  2.636969e-02      0.13245    1.969317e-01   \n",
       "4    EFConsPerCap  9.638004e-01  3.543877e-01  0.473933988    1.382884e-01   \n",
       "..            ...           ...           ...          ...             ...   \n",
       "585  EFConsTotGHA  1.346115e+05  9.060700e+04  116097.2933    7.889400e+05   \n",
       "586  EFProdPerCap  4.254370e-01  1.109362e-01  0.115439124    7.045654e-02   \n",
       "587  EFConsPerCap  2.724583e-01  3.338864e-01   0.00961623    3.944396e-02   \n",
       "588  EFConsPerCap  3.668349e-01  2.469165e-01  0.316381046    2.149970e+00   \n",
       "589  EFConsPerCap  3.199466e-01  3.129116e-02  0.282887253    6.931481e-01   \n",
       "\n",
       "     built_up_land         carbon         total QScore  \n",
       "0     15428.928360       0.000000  1.610965e+06     3A  \n",
       "1    440160.726500       0.000000  8.392779e+06     3A  \n",
       "2    283976.814000  184651.311900  5.910647e+06     3A  \n",
       "3         0.021670       0.000000  4.912494e-01     3A  \n",
       "4         0.098030       3.098552  5.126992e+00     2A  \n",
       "..             ...            ...           ...    ...  \n",
       "585     203.311157  833762.968500  1.964222e+06     2A  \n",
       "586       0.098646       1.113905  1.934820e+00     3A  \n",
       "587       0.026684       0.088306  7.703951e-01     3A  \n",
       "588       0.000554       2.272118  5.352775e+00     2A  \n",
       "589       0.161211       0.258083  1.746568e+00     2A  \n",
       "\n",
       "[590 rows x 9 columns]"
      ]
     },
     "execution_count": 11,
     "metadata": {},
     "output_type": "execute_result"
    }
   ],
   "source": [
    "data_df"
   ]
  },
  {
   "cell_type": "code",
   "execution_count": 12,
   "id": "fde56b3e",
   "metadata": {},
   "outputs": [],
   "source": [
    "X = data_df.drop(columns= 'QScore' ) \n",
    "y = data_df[ 'QScore' ] "
   ]
  },
  {
   "cell_type": "code",
   "execution_count": 56,
   "id": "3c8d566f",
   "metadata": {},
   "outputs": [],
   "source": [
    "#split the data into training and testing sets \n",
    "from sklearn.model_selection import train_test_split \n",
    "x_train, x_test, y_train, y_test = train_test_split(X, y, test_size= 0.3 , random_state= 0) "
   ]
  },
  {
   "cell_type": "code",
   "execution_count": 57,
   "id": "e9391207",
   "metadata": {},
   "outputs": [
    {
     "data": {
      "text/plain": [
       "3A    241\n",
       "2A    172\n",
       "Name: QScore, dtype: int64"
      ]
     },
     "execution_count": 57,
     "metadata": {},
     "output_type": "execute_result"
    }
   ],
   "source": [
    "y_train.value_counts()"
   ]
  },
  {
   "cell_type": "code",
   "execution_count": 60,
   "id": "8ec8f4b4",
   "metadata": {},
   "outputs": [],
   "source": [
    "#There is still an imbalance in the class distribution. For this, we use SMOTE only on the training data to handle this. \n",
    "#encode categorical variable \n",
    "from sklearn.preprocessing import LabelEncoder \n",
    "encoder = LabelEncoder() \n",
    "x_train.record = encoder.fit_transform(x_train.record) \n",
    "x_test.record = encoder.transform(x_test.record)"
   ]
  },
  {
   "cell_type": "code",
   "execution_count": 61,
   "id": "bb293449",
   "metadata": {},
   "outputs": [],
   "source": [
    "import imblearn \n",
    "from imblearn.over_sampling import SMOTE \n",
    "smote = SMOTE(random_state= 1) \n",
    "x_train_balanced, y_balanced = smote.fit_resample(x_train, y_train) "
   ]
  },
  {
   "cell_type": "code",
   "execution_count": 62,
   "id": "70231387",
   "metadata": {},
   "outputs": [],
   "source": [
    "from sklearn.preprocessing import MinMaxScaler \n",
    "scaler = MinMaxScaler() \n",
    "normalised_train_df = scaler.fit_transform(x_train_balanced.drop(columns=['record'])) \n",
    "normalised_train_df = pd.DataFrame(normalised_train_df, columns = x_train_balanced.drop(columns=['record']).columns) \n",
    "normalised_train_df['record'] = x_train_balanced['record'] "
   ]
  },
  {
   "cell_type": "code",
   "execution_count": null,
   "id": "6c90d60f",
   "metadata": {},
   "outputs": [],
   "source": []
  },
  {
   "cell_type": "code",
   "execution_count": null,
   "id": "24b18cb4",
   "metadata": {},
   "outputs": [],
   "source": []
  },
  {
   "cell_type": "code",
   "execution_count": 63,
   "id": "d9500e0b",
   "metadata": {},
   "outputs": [
    {
     "data": {
      "text/plain": [
       "(177, 8)"
      ]
     },
     "execution_count": 63,
     "metadata": {},
     "output_type": "execute_result"
    }
   ],
   "source": [
    "x_test.shape"
   ]
  },
  {
   "cell_type": "code",
   "execution_count": 64,
   "id": "b32a8801",
   "metadata": {},
   "outputs": [
    {
     "data": {
      "text/plain": [
       "(177,)"
      ]
     },
     "execution_count": 64,
     "metadata": {},
     "output_type": "execute_result"
    }
   ],
   "source": [
    "y_test.shape"
   ]
  },
  {
   "cell_type": "code",
   "execution_count": 65,
   "id": "cdd4128e",
   "metadata": {},
   "outputs": [],
   "source": [
    "x_test = x_test.reset_index(drop= True ) \n",
    "normalised_test_df = scaler.transform(x_test.drop(columns=['record'])) \n",
    "normalised_test_df = pd.DataFrame(normalised_test_df, columns = x_test.drop(columns=['record']).columns) \n",
    "normalised_test_df['record'] = x_test['record']"
   ]
  },
  {
   "cell_type": "code",
   "execution_count": 66,
   "id": "bd4667b4",
   "metadata": {},
   "outputs": [
    {
     "data": {
      "text/html": [
       "<style>#sk-container-id-2 {color: black;background-color: white;}#sk-container-id-2 pre{padding: 0;}#sk-container-id-2 div.sk-toggleable {background-color: white;}#sk-container-id-2 label.sk-toggleable__label {cursor: pointer;display: block;width: 100%;margin-bottom: 0;padding: 0.3em;box-sizing: border-box;text-align: center;}#sk-container-id-2 label.sk-toggleable__label-arrow:before {content: \"▸\";float: left;margin-right: 0.25em;color: #696969;}#sk-container-id-2 label.sk-toggleable__label-arrow:hover:before {color: black;}#sk-container-id-2 div.sk-estimator:hover label.sk-toggleable__label-arrow:before {color: black;}#sk-container-id-2 div.sk-toggleable__content {max-height: 0;max-width: 0;overflow: hidden;text-align: left;background-color: #f0f8ff;}#sk-container-id-2 div.sk-toggleable__content pre {margin: 0.2em;color: black;border-radius: 0.25em;background-color: #f0f8ff;}#sk-container-id-2 input.sk-toggleable__control:checked~div.sk-toggleable__content {max-height: 200px;max-width: 100%;overflow: auto;}#sk-container-id-2 input.sk-toggleable__control:checked~label.sk-toggleable__label-arrow:before {content: \"▾\";}#sk-container-id-2 div.sk-estimator input.sk-toggleable__control:checked~label.sk-toggleable__label {background-color: #d4ebff;}#sk-container-id-2 div.sk-label input.sk-toggleable__control:checked~label.sk-toggleable__label {background-color: #d4ebff;}#sk-container-id-2 input.sk-hidden--visually {border: 0;clip: rect(1px 1px 1px 1px);clip: rect(1px, 1px, 1px, 1px);height: 1px;margin: -1px;overflow: hidden;padding: 0;position: absolute;width: 1px;}#sk-container-id-2 div.sk-estimator {font-family: monospace;background-color: #f0f8ff;border: 1px dotted black;border-radius: 0.25em;box-sizing: border-box;margin-bottom: 0.5em;}#sk-container-id-2 div.sk-estimator:hover {background-color: #d4ebff;}#sk-container-id-2 div.sk-parallel-item::after {content: \"\";width: 100%;border-bottom: 1px solid gray;flex-grow: 1;}#sk-container-id-2 div.sk-label:hover label.sk-toggleable__label {background-color: #d4ebff;}#sk-container-id-2 div.sk-serial::before {content: \"\";position: absolute;border-left: 1px solid gray;box-sizing: border-box;top: 0;bottom: 0;left: 50%;z-index: 0;}#sk-container-id-2 div.sk-serial {display: flex;flex-direction: column;align-items: center;background-color: white;padding-right: 0.2em;padding-left: 0.2em;position: relative;}#sk-container-id-2 div.sk-item {position: relative;z-index: 1;}#sk-container-id-2 div.sk-parallel {display: flex;align-items: stretch;justify-content: center;background-color: white;position: relative;}#sk-container-id-2 div.sk-item::before, #sk-container-id-2 div.sk-parallel-item::before {content: \"\";position: absolute;border-left: 1px solid gray;box-sizing: border-box;top: 0;bottom: 0;left: 50%;z-index: -1;}#sk-container-id-2 div.sk-parallel-item {display: flex;flex-direction: column;z-index: 1;position: relative;background-color: white;}#sk-container-id-2 div.sk-parallel-item:first-child::after {align-self: flex-end;width: 50%;}#sk-container-id-2 div.sk-parallel-item:last-child::after {align-self: flex-start;width: 50%;}#sk-container-id-2 div.sk-parallel-item:only-child::after {width: 0;}#sk-container-id-2 div.sk-dashed-wrapped {border: 1px dashed gray;margin: 0 0.4em 0.5em 0.4em;box-sizing: border-box;padding-bottom: 0.4em;background-color: white;}#sk-container-id-2 div.sk-label label {font-family: monospace;font-weight: bold;display: inline-block;line-height: 1.2em;}#sk-container-id-2 div.sk-label-container {text-align: center;}#sk-container-id-2 div.sk-container {/* jupyter's `normalize.less` sets `[hidden] { display: none; }` but bootstrap.min.css set `[hidden] { display: none !important; }` so we also need the `!important` here to be able to override the default hidden behavior on the sphinx rendered scikit-learn.org. See: https://github.com/scikit-learn/scikit-learn/issues/21755 */display: inline-block !important;position: relative;}#sk-container-id-2 div.sk-text-repr-fallback {display: none;}</style><div id=\"sk-container-id-2\" class=\"sk-top-container\"><div class=\"sk-text-repr-fallback\"><pre>LogisticRegression()</pre><b>In a Jupyter environment, please rerun this cell to show the HTML representation or trust the notebook. <br />On GitHub, the HTML representation is unable to render, please try loading this page with nbviewer.org.</b></div><div class=\"sk-container\" hidden><div class=\"sk-item\"><div class=\"sk-estimator sk-toggleable\"><input class=\"sk-toggleable__control sk-hidden--visually\" id=\"sk-estimator-id-2\" type=\"checkbox\" checked><label for=\"sk-estimator-id-2\" class=\"sk-toggleable__label sk-toggleable__label-arrow\">LogisticRegression</label><div class=\"sk-toggleable__content\"><pre>LogisticRegression()</pre></div></div></div></div></div>"
      ],
      "text/plain": [
       "LogisticRegression()"
      ]
     },
     "execution_count": 66,
     "metadata": {},
     "output_type": "execute_result"
    }
   ],
   "source": [
    "#Logistic Regression \n",
    "from sklearn.linear_model import LogisticRegression \n",
    "log_reg = LogisticRegression() \n",
    "log_reg.fit(normalised_train_df, y_balanced) \n",
    "# #returns\n",
    "# LogisticRegression(C= 1.0 , class_weight= None , dual= False , fit_intercept= True , \n",
    "#  intercept_scaling= 1 , l1_ratio= None , max_iter= 100 , \n",
    "#  multi_class= 'auto' , n_jobs= None , penalty= 'l2' , \n",
    "#  random_state= None , solver= 'lbfgs' , tol= 0.0001 , verbose= 0 , \n",
    "#  warm_start= False )"
   ]
  },
  {
   "cell_type": "markdown",
   "id": "c3502ddd",
   "metadata": {},
   "source": [
    "# Cross Validation and Accuracy"
   ]
  },
  {
   "cell_type": "code",
   "execution_count": 73,
   "id": "93b58ad7",
   "metadata": {},
   "outputs": [
    {
     "data": {
      "text/plain": [
       "0.5109017554380826"
      ]
     },
     "execution_count": 73,
     "metadata": {},
     "output_type": "execute_result"
    }
   ],
   "source": [
    "# cross_validation\n",
    "from sklearn.model_selection import cross_val_score\n",
    "scores = cross_val_score(log_reg, normalised_train_df, y_balanced, cv= 5 , scoring= 'f1_macro' ) \n",
    "scores.mean()"
   ]
  },
  {
   "cell_type": "code",
   "execution_count": null,
   "id": "d3a228a8",
   "metadata": {},
   "outputs": [],
   "source": []
  },
  {
   "cell_type": "markdown",
   "id": "4db59640",
   "metadata": {},
   "source": [
    "# K-Fold Cross validation"
   ]
  },
  {
   "cell_type": "code",
   "execution_count": 75,
   "id": "6f4f6582",
   "metadata": {},
   "outputs": [],
   "source": [
    "from sklearn.model_selection import KFold\n",
    "from sklearn.metrics import f1_score\n",
    "# kf = KFold(n_splits= 5 ) \n",
    "# kf.split(normalised_train_df) \n",
    "# f1_scores = []\n",
    "\n",
    "# #run for every split \n",
    "# for train_index, test_index in kf.split(normalised_train_df): \n",
    "#     x_train, x_test = normalised_train_df.iloc[train_index], normalised_train_df.iloc[test_index]\n",
    "#     y_train, y_test = y_balanced[train_index], y_balanced[test_index] \n",
    "#     model = LogisticRegression().fit(x_train, y_train)\n",
    "\n",
    "#      #save result to list \n",
    "#     f1_scores.append(f1_score(y_true=y_test, y_pred=model.predict(x_test), pos_label= '2A' ) *100 )"
   ]
  },
  {
   "cell_type": "code",
   "execution_count": 76,
   "id": "d51ea41e",
   "metadata": {},
   "outputs": [],
   "source": [
    "# f1_scores"
   ]
  },
  {
   "cell_type": "markdown",
   "id": "fe741e3d",
   "metadata": {},
   "source": [
    "# Stratified K-Fold Cross Validation "
   ]
  },
  {
   "cell_type": "code",
   "execution_count": 77,
   "id": "3fe8a4f6",
   "metadata": {},
   "outputs": [],
   "source": [
    "from sklearn.model_selection import StratifiedKFold \n",
    "skf = StratifiedKFold(n_splits= 5 , shuffle= True , random_state= 1 ) \n",
    "\n",
    "def run_KFold():\n",
    "    f1_scores = []\n",
    "    #run for every split \n",
    "    for train_index, test_index in skf.split(normalised_train_df, y_balanced): \n",
    "        x_train, x_test = np.array(normalised_train_df)[train_index], np.array(normalised_train_df)[test_index] \n",
    "        y_train, y_test = y_balanced[train_index], y_balanced[test_index] \n",
    "        model = LogisticRegression().fit(x_train, y_train) \n",
    "        #save result to list \n",
    "        f1_scores.append(f1_score(y_true=y_test, y_pred=model.predict(x_test), pos_label= '2A' )*100)\n",
    "    return f1_scores"
   ]
  },
  {
   "cell_type": "code",
   "execution_count": 78,
   "id": "5bf5859d",
   "metadata": {},
   "outputs": [
    {
     "data": {
      "text/plain": [
       "55.2561035859808"
      ]
     },
     "execution_count": 78,
     "metadata": {},
     "output_type": "execute_result"
    }
   ],
   "source": [
    "f1_scores = run_KFold()\n",
    "np.array(f1_scores).mean()"
   ]
  },
  {
   "cell_type": "code",
   "execution_count": null,
   "id": "36f1344a",
   "metadata": {},
   "outputs": [],
   "source": []
  },
  {
   "cell_type": "code",
   "execution_count": 79,
   "id": "30cc06e9",
   "metadata": {},
   "outputs": [],
   "source": [
    "from sklearn.model_selection import LeaveOneOut \n",
    "loo = LeaveOneOut() \n",
    "scores = cross_val_score(LogisticRegression(), normalised_train_df, y_balanced, cv=loo, scoring= 'f1_macro' ) \n",
    "average_score = scores.mean() * 100"
   ]
  },
  {
   "cell_type": "code",
   "execution_count": 80,
   "id": "5b6ce75d",
   "metadata": {},
   "outputs": [
    {
     "data": {
      "text/plain": [
       "52.074688796680505"
      ]
     },
     "execution_count": 80,
     "metadata": {},
     "output_type": "execute_result"
    }
   ],
   "source": [
    "average_score"
   ]
  },
  {
   "cell_type": "code",
   "execution_count": 81,
   "id": "b49c0685",
   "metadata": {},
   "outputs": [
    {
     "data": {
      "text/plain": [
       "array([[33, 35],\n",
       "       [61, 48]], dtype=int64)"
      ]
     },
     "execution_count": 81,
     "metadata": {},
     "output_type": "execute_result"
    }
   ],
   "source": [
    "import numpy as np\n",
    "from sklearn.metrics import recall_score, accuracy_score, precision_score, f1_score, confusion_matrix,classification_report\n",
    "new_predictions = log_reg.predict(normalised_test_df)\n",
    "cnf_mat = confusion_matrix(y_true = y_test, y_pred = new_predictions, labels=['2A' , '3A']) \n",
    "cnf_mat #prints array([[ 35, 34 ], [ 50 , 58 ]])"
   ]
  },
  {
   "cell_type": "code",
   "execution_count": 82,
   "id": "9eaf6f0b",
   "metadata": {},
   "outputs": [
    {
     "name": "stdout",
     "output_type": "stream",
     "text": [
      "Accuracy: 46\n"
     ]
    }
   ],
   "source": [
    "accuracy = accuracy_score(y_true=y_test, y_pred=new_predictions) \n",
    "print( 'Accuracy: {}' .format(round(accuracy* 100 ), 2))"
   ]
  },
  {
   "cell_type": "code",
   "execution_count": 83,
   "id": "0c7a0025",
   "metadata": {},
   "outputs": [
    {
     "name": "stdout",
     "output_type": "stream",
     "text": [
      "Precision: 35\n"
     ]
    }
   ],
   "source": [
    "precision = precision_score(y_true=y_test, y_pred=new_predictions, pos_label= '2A' ) \n",
    "print( 'Precision: {}' .format(round(precision* 100 ), 2)) #prints 41.0 "
   ]
  },
  {
   "cell_type": "code",
   "execution_count": 84,
   "id": "ca01a8f1",
   "metadata": {},
   "outputs": [
    {
     "name": "stdout",
     "output_type": "stream",
     "text": [
      "Recall: 49\n"
     ]
    }
   ],
   "source": [
    "recall = recall_score(y_true=y_test, y_pred=new_predictions, pos_label= '2A' ) \n",
    "print( 'Recall: {}' .format(round(recall* 100 ), 2)) #prints 51.0 "
   ]
  },
  {
   "cell_type": "code",
   "execution_count": 85,
   "id": "eab202f8",
   "metadata": {},
   "outputs": [
    {
     "name": "stdout",
     "output_type": "stream",
     "text": [
      "F1: 41\n"
     ]
    }
   ],
   "source": [
    "f1 = f1_score(y_true=y_test, y_pred=new_predictions, pos_label= '2A' ) \n",
    "print( 'F1: {}' .format(round(f1* 100 ), 2 )) #prints 45.0"
   ]
  },
  {
   "cell_type": "code",
   "execution_count": 86,
   "id": "2a0ee127",
   "metadata": {},
   "outputs": [
    {
     "data": {
      "text/plain": [
       "'              precision    recall  f1-score   support\\n\\n          2A       0.35      0.49      0.41        68\\n          3A       0.58      0.44      0.50       109\\n\\n    accuracy                           0.46       177\\n   macro avg       0.46      0.46      0.45       177\\nweighted avg       0.49      0.46      0.46       177\\n'"
      ]
     },
     "execution_count": 86,
     "metadata": {},
     "output_type": "execute_result"
    }
   ],
   "source": [
    "cls = classification_report(y_true = y_test, y_pred = new_predictions)\n",
    "cls"
   ]
  },
  {
   "cell_type": "code",
   "execution_count": 87,
   "id": "8cd8f5ca",
   "metadata": {},
   "outputs": [
    {
     "data": {
      "text/plain": [
       "3A    241\n",
       "2A    172\n",
       "Name: QScore, dtype: int64"
      ]
     },
     "execution_count": 87,
     "metadata": {},
     "output_type": "execute_result"
    }
   ],
   "source": [
    "y_train.value_counts()"
   ]
  },
  {
   "cell_type": "code",
   "execution_count": null,
   "id": "7289611d",
   "metadata": {},
   "outputs": [],
   "source": []
  },
  {
   "cell_type": "code",
   "execution_count": null,
   "id": "ec497037",
   "metadata": {},
   "outputs": [],
   "source": []
  },
  {
   "cell_type": "code",
   "execution_count": null,
   "id": "46087d35",
   "metadata": {},
   "outputs": [],
   "source": []
  }
 ],
 "metadata": {
  "kernelspec": {
   "display_name": "Python 3 (ipykernel)",
   "language": "python",
   "name": "python3"
  },
  "language_info": {
   "codemirror_mode": {
    "name": "ipython",
    "version": 3
   },
   "file_extension": ".py",
   "mimetype": "text/x-python",
   "name": "python",
   "nbconvert_exporter": "python",
   "pygments_lexer": "ipython3",
   "version": "3.10.9"
  }
 },
 "nbformat": 4,
 "nbformat_minor": 5
}
