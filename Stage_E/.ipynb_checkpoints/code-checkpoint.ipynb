{
 "cells": [
  {
   "cell_type": "code",
   "execution_count": 1,
   "id": "c09f0473",
   "metadata": {},
   "outputs": [],
   "source": [
    "# import necessary librariies\n",
    "import numpy as np\n",
    "import pandas as pd\n",
    "import seaborn as sns\n",
    "import matplotlib.pyplot as plt   \n",
    "%matplotlib inline"
   ]
  },
  {
   "cell_type": "markdown",
   "id": "b24d6ced",
   "metadata": {},
   "source": [
    "# Load Datasets"
   ]
  },
  {
   "cell_type": "code",
   "execution_count": 2,
   "id": "312e9a78",
   "metadata": {},
   "outputs": [
    {
     "data": {
      "text/html": [
       "<div>\n",
       "<style scoped>\n",
       "    .dataframe tbody tr th:only-of-type {\n",
       "        vertical-align: middle;\n",
       "    }\n",
       "\n",
       "    .dataframe tbody tr th {\n",
       "        vertical-align: top;\n",
       "    }\n",
       "\n",
       "    .dataframe thead th {\n",
       "        text-align: right;\n",
       "    }\n",
       "</style>\n",
       "<table border=\"1\" class=\"dataframe\">\n",
       "  <thead>\n",
       "    <tr style=\"text-align: right;\">\n",
       "      <th></th>\n",
       "      <th>FullDate</th>\n",
       "      <th>Tmax</th>\n",
       "      <th>SysLoad</th>\n",
       "      <th>GasPrice</th>\n",
       "      <th>ElecPrice</th>\n",
       "    </tr>\n",
       "  </thead>\n",
       "  <tbody>\n",
       "    <tr>\n",
       "      <th>0</th>\n",
       "      <td>2010-09-01 00:00:00</td>\n",
       "      <td>15.8</td>\n",
       "      <td>1688.215</td>\n",
       "      <td>3.69</td>\n",
       "      <td>23.710</td>\n",
       "    </tr>\n",
       "    <tr>\n",
       "      <th>1</th>\n",
       "      <td>2010-09-01 01:00:00</td>\n",
       "      <td>15.8</td>\n",
       "      <td>1669.195</td>\n",
       "      <td>3.69</td>\n",
       "      <td>22.635</td>\n",
       "    </tr>\n",
       "    <tr>\n",
       "      <th>2</th>\n",
       "      <td>2010-09-01 02:00:00</td>\n",
       "      <td>15.8</td>\n",
       "      <td>1491.980</td>\n",
       "      <td>3.69</td>\n",
       "      <td>22.565</td>\n",
       "    </tr>\n",
       "    <tr>\n",
       "      <th>3</th>\n",
       "      <td>2010-09-01 03:00:00</td>\n",
       "      <td>15.8</td>\n",
       "      <td>1330.760</td>\n",
       "      <td>3.69</td>\n",
       "      <td>18.910</td>\n",
       "    </tr>\n",
       "    <tr>\n",
       "      <th>4</th>\n",
       "      <td>2010-09-01 04:00:00</td>\n",
       "      <td>15.8</td>\n",
       "      <td>1247.940</td>\n",
       "      <td>3.69</td>\n",
       "      <td>18.030</td>\n",
       "    </tr>\n",
       "  </tbody>\n",
       "</table>\n",
       "</div>"
      ],
      "text/plain": [
       "              FullDate  Tmax   SysLoad  GasPrice  ElecPrice\n",
       "0  2010-09-01 00:00:00  15.8  1688.215      3.69     23.710\n",
       "1  2010-09-01 01:00:00  15.8  1669.195      3.69     22.635\n",
       "2  2010-09-01 02:00:00  15.8  1491.980      3.69     22.565\n",
       "3  2010-09-01 03:00:00  15.8  1330.760      3.69     18.910\n",
       "4  2010-09-01 04:00:00  15.8  1247.940      3.69     18.030"
      ]
     },
     "execution_count": 2,
     "metadata": {},
     "output_type": "execute_result"
    }
   ],
   "source": [
    "# Load dataset\n",
    "df = pd.read_csv(\"Time_series_analysis_and_forecast_DATASET.csv\")\n",
    "df.head()"
   ]
  },
  {
   "cell_type": "code",
   "execution_count": 3,
   "id": "4dfb1e03",
   "metadata": {},
   "outputs": [
    {
     "data": {
      "text/plain": [
       "(92016, 5)"
      ]
     },
     "execution_count": 3,
     "metadata": {},
     "output_type": "execute_result"
    }
   ],
   "source": [
    "df.shape"
   ]
  },
  {
   "cell_type": "code",
   "execution_count": 4,
   "id": "8cb67bc2",
   "metadata": {},
   "outputs": [
    {
     "data": {
      "text/plain": [
       "FullDate     0\n",
       "Tmax         0\n",
       "SysLoad      0\n",
       "GasPrice     0\n",
       "ElecPrice    0\n",
       "dtype: int64"
      ]
     },
     "execution_count": 4,
     "metadata": {},
     "output_type": "execute_result"
    }
   ],
   "source": [
    "#check for missing values\n",
    "df.isnull().sum()"
   ]
  },
  {
   "cell_type": "code",
   "execution_count": 5,
   "id": "622cdbf0",
   "metadata": {},
   "outputs": [
    {
     "data": {
      "text/html": [
       "<div>\n",
       "<style scoped>\n",
       "    .dataframe tbody tr th:only-of-type {\n",
       "        vertical-align: middle;\n",
       "    }\n",
       "\n",
       "    .dataframe tbody tr th {\n",
       "        vertical-align: top;\n",
       "    }\n",
       "\n",
       "    .dataframe thead th {\n",
       "        text-align: right;\n",
       "    }\n",
       "</style>\n",
       "<table border=\"1\" class=\"dataframe\">\n",
       "  <thead>\n",
       "    <tr style=\"text-align: right;\">\n",
       "      <th></th>\n",
       "      <th>Tmax</th>\n",
       "      <th>SysLoad</th>\n",
       "      <th>GasPrice</th>\n",
       "      <th>y</th>\n",
       "    </tr>\n",
       "    <tr>\n",
       "      <th>ds</th>\n",
       "      <th></th>\n",
       "      <th></th>\n",
       "      <th></th>\n",
       "      <th></th>\n",
       "    </tr>\n",
       "  </thead>\n",
       "  <tbody>\n",
       "    <tr>\n",
       "      <th>2010-09-01 00:00:00</th>\n",
       "      <td>15.8</td>\n",
       "      <td>1688.215</td>\n",
       "      <td>3.69</td>\n",
       "      <td>23.710</td>\n",
       "    </tr>\n",
       "    <tr>\n",
       "      <th>2010-09-01 01:00:00</th>\n",
       "      <td>15.8</td>\n",
       "      <td>1669.195</td>\n",
       "      <td>3.69</td>\n",
       "      <td>22.635</td>\n",
       "    </tr>\n",
       "    <tr>\n",
       "      <th>2010-09-01 02:00:00</th>\n",
       "      <td>15.8</td>\n",
       "      <td>1491.980</td>\n",
       "      <td>3.69</td>\n",
       "      <td>22.565</td>\n",
       "    </tr>\n",
       "    <tr>\n",
       "      <th>2010-09-01 03:00:00</th>\n",
       "      <td>15.8</td>\n",
       "      <td>1330.760</td>\n",
       "      <td>3.69</td>\n",
       "      <td>18.910</td>\n",
       "    </tr>\n",
       "    <tr>\n",
       "      <th>2010-09-01 04:00:00</th>\n",
       "      <td>15.8</td>\n",
       "      <td>1247.940</td>\n",
       "      <td>3.69</td>\n",
       "      <td>18.030</td>\n",
       "    </tr>\n",
       "  </tbody>\n",
       "</table>\n",
       "</div>"
      ],
      "text/plain": [
       "                     Tmax   SysLoad  GasPrice       y\n",
       "ds                                                   \n",
       "2010-09-01 00:00:00  15.8  1688.215      3.69  23.710\n",
       "2010-09-01 01:00:00  15.8  1669.195      3.69  22.635\n",
       "2010-09-01 02:00:00  15.8  1491.980      3.69  22.565\n",
       "2010-09-01 03:00:00  15.8  1330.760      3.69  18.910\n",
       "2010-09-01 04:00:00  15.8  1247.940      3.69  18.030"
      ]
     },
     "execution_count": 5,
     "metadata": {},
     "output_type": "execute_result"
    }
   ],
   "source": [
    "# Convert to a time series object - 'FullDate' to 'DateTime' \n",
    "from datetime import datetime\n",
    "df['FullDate'] = pd.to_datetime(df.FullDate)\n",
    "\n",
    "# Rename the Columns FullDate And ElecPrice\n",
    "df = df.rename(columns={\"FullDate\" : \"ds\" , \"ElecPrice\" : \"y\" }) \n",
    "df.set_index('ds', inplace=True)\n",
    "df.head()"
   ]
  },
  {
   "cell_type": "code",
   "execution_count": 6,
   "id": "e2160309",
   "metadata": {},
   "outputs": [
    {
     "data": {
      "text/html": [
       "<div>\n",
       "<style scoped>\n",
       "    .dataframe tbody tr th:only-of-type {\n",
       "        vertical-align: middle;\n",
       "    }\n",
       "\n",
       "    .dataframe tbody tr th {\n",
       "        vertical-align: top;\n",
       "    }\n",
       "\n",
       "    .dataframe thead th {\n",
       "        text-align: right;\n",
       "    }\n",
       "</style>\n",
       "<table border=\"1\" class=\"dataframe\">\n",
       "  <thead>\n",
       "    <tr style=\"text-align: right;\">\n",
       "      <th></th>\n",
       "      <th>Tmax</th>\n",
       "      <th>SysLoad</th>\n",
       "      <th>GasPrice</th>\n",
       "      <th>y</th>\n",
       "    </tr>\n",
       "    <tr>\n",
       "      <th>ds</th>\n",
       "      <th></th>\n",
       "      <th></th>\n",
       "      <th></th>\n",
       "      <th></th>\n",
       "    </tr>\n",
       "  </thead>\n",
       "  <tbody>\n",
       "    <tr>\n",
       "      <th>2010-09-01</th>\n",
       "      <td>379.2</td>\n",
       "      <td>41565.38000</td>\n",
       "      <td>88.5600</td>\n",
       "      <td>2751.700</td>\n",
       "    </tr>\n",
       "    <tr>\n",
       "      <th>2010-09-02</th>\n",
       "      <td>369.6</td>\n",
       "      <td>38898.99000</td>\n",
       "      <td>88.5600</td>\n",
       "      <td>570.810</td>\n",
       "    </tr>\n",
       "    <tr>\n",
       "      <th>2010-09-03</th>\n",
       "      <td>439.2</td>\n",
       "      <td>41665.76000</td>\n",
       "      <td>106.8000</td>\n",
       "      <td>504.975</td>\n",
       "    </tr>\n",
       "    <tr>\n",
       "      <th>2010-09-04</th>\n",
       "      <td>328.8</td>\n",
       "      <td>35638.08500</td>\n",
       "      <td>81.3600</td>\n",
       "      <td>502.275</td>\n",
       "    </tr>\n",
       "    <tr>\n",
       "      <th>2010-09-05</th>\n",
       "      <td>357.6</td>\n",
       "      <td>35611.41000</td>\n",
       "      <td>106.8000</td>\n",
       "      <td>500.555</td>\n",
       "    </tr>\n",
       "    <tr>\n",
       "      <th>...</th>\n",
       "      <td>...</td>\n",
       "      <td>...</td>\n",
       "      <td>...</td>\n",
       "      <td>...</td>\n",
       "    </tr>\n",
       "    <tr>\n",
       "      <th>2021-02-24</th>\n",
       "      <td>537.6</td>\n",
       "      <td>-1525.49745</td>\n",
       "      <td>134.4000</td>\n",
       "      <td>634.770</td>\n",
       "    </tr>\n",
       "    <tr>\n",
       "      <th>2021-02-25</th>\n",
       "      <td>518.4</td>\n",
       "      <td>4539.07855</td>\n",
       "      <td>130.5048</td>\n",
       "      <td>577.515</td>\n",
       "    </tr>\n",
       "    <tr>\n",
       "      <th>2021-02-26</th>\n",
       "      <td>547.2</td>\n",
       "      <td>9517.02430</td>\n",
       "      <td>130.1808</td>\n",
       "      <td>1445.495</td>\n",
       "    </tr>\n",
       "    <tr>\n",
       "      <th>2021-02-27</th>\n",
       "      <td>564.0</td>\n",
       "      <td>4932.88015</td>\n",
       "      <td>130.0800</td>\n",
       "      <td>488.980</td>\n",
       "    </tr>\n",
       "    <tr>\n",
       "      <th>2021-02-28</th>\n",
       "      <td>583.2</td>\n",
       "      <td>6675.05485</td>\n",
       "      <td>131.6352</td>\n",
       "      <td>-98.985</td>\n",
       "    </tr>\n",
       "  </tbody>\n",
       "</table>\n",
       "<p>3834 rows × 4 columns</p>\n",
       "</div>"
      ],
      "text/plain": [
       "             Tmax      SysLoad  GasPrice         y\n",
       "ds                                                \n",
       "2010-09-01  379.2  41565.38000   88.5600  2751.700\n",
       "2010-09-02  369.6  38898.99000   88.5600   570.810\n",
       "2010-09-03  439.2  41665.76000  106.8000   504.975\n",
       "2010-09-04  328.8  35638.08500   81.3600   502.275\n",
       "2010-09-05  357.6  35611.41000  106.8000   500.555\n",
       "...           ...          ...       ...       ...\n",
       "2021-02-24  537.6  -1525.49745  134.4000   634.770\n",
       "2021-02-25  518.4   4539.07855  130.5048   577.515\n",
       "2021-02-26  547.2   9517.02430  130.1808  1445.495\n",
       "2021-02-27  564.0   4932.88015  130.0800   488.980\n",
       "2021-02-28  583.2   6675.05485  131.6352   -98.985\n",
       "\n",
       "[3834 rows x 4 columns]"
      ]
     },
     "execution_count": 6,
     "metadata": {},
     "output_type": "execute_result"
    }
   ],
   "source": [
    "df_daily = df.resample('D').sum()\n",
    "df_daily"
   ]
  },
  {
   "cell_type": "code",
   "execution_count": 7,
   "id": "bbc09aae",
   "metadata": {},
   "outputs": [
    {
     "data": {
      "text/html": [
       "<div>\n",
       "<style scoped>\n",
       "    .dataframe tbody tr th:only-of-type {\n",
       "        vertical-align: middle;\n",
       "    }\n",
       "\n",
       "    .dataframe tbody tr th {\n",
       "        vertical-align: top;\n",
       "    }\n",
       "\n",
       "    .dataframe thead th {\n",
       "        text-align: right;\n",
       "    }\n",
       "</style>\n",
       "<table border=\"1\" class=\"dataframe\">\n",
       "  <thead>\n",
       "    <tr style=\"text-align: right;\">\n",
       "      <th></th>\n",
       "      <th>Tmax</th>\n",
       "      <th>SysLoad</th>\n",
       "      <th>GasPrice</th>\n",
       "      <th>y</th>\n",
       "    </tr>\n",
       "  </thead>\n",
       "  <tbody>\n",
       "    <tr>\n",
       "      <th>Tmax</th>\n",
       "      <td>1.000000</td>\n",
       "      <td>-0.012249</td>\n",
       "      <td>0.030173</td>\n",
       "      <td>0.004748</td>\n",
       "    </tr>\n",
       "    <tr>\n",
       "      <th>SysLoad</th>\n",
       "      <td>-0.012249</td>\n",
       "      <td>1.000000</td>\n",
       "      <td>-0.268321</td>\n",
       "      <td>0.170524</td>\n",
       "    </tr>\n",
       "    <tr>\n",
       "      <th>GasPrice</th>\n",
       "      <td>0.030173</td>\n",
       "      <td>-0.268321</td>\n",
       "      <td>1.000000</td>\n",
       "      <td>0.352420</td>\n",
       "    </tr>\n",
       "    <tr>\n",
       "      <th>y</th>\n",
       "      <td>0.004748</td>\n",
       "      <td>0.170524</td>\n",
       "      <td>0.352420</td>\n",
       "      <td>1.000000</td>\n",
       "    </tr>\n",
       "  </tbody>\n",
       "</table>\n",
       "</div>"
      ],
      "text/plain": [
       "              Tmax   SysLoad  GasPrice         y\n",
       "Tmax      1.000000 -0.012249  0.030173  0.004748\n",
       "SysLoad  -0.012249  1.000000 -0.268321  0.170524\n",
       "GasPrice  0.030173 -0.268321  1.000000  0.352420\n",
       "y         0.004748  0.170524  0.352420  1.000000"
      ]
     },
     "execution_count": 7,
     "metadata": {},
     "output_type": "execute_result"
    }
   ],
   "source": [
    "df_daily.corr()"
   ]
  },
  {
   "cell_type": "code",
   "execution_count": 8,
   "id": "81c34b66",
   "metadata": {},
   "outputs": [
    {
     "data": {
      "text/plain": [
       "(3834, 4)"
      ]
     },
     "execution_count": 8,
     "metadata": {},
     "output_type": "execute_result"
    }
   ],
   "source": [
    "# Looking at the shape of Daily Rate\n",
    "df_daily.shape"
   ]
  },
  {
   "cell_type": "markdown",
   "id": "11040c25",
   "metadata": {},
   "source": [
    "# Question 11"
   ]
  },
  {
   "cell_type": "markdown",
   "id": "b6f7d6b1",
   "metadata": {},
   "source": [
    "Resample the data from an hour sampling rate to a daily sampling rate (i.e sum over the hours for each day). Which of the following is a plot of ElecPrice over time?"
   ]
  },
  {
   "cell_type": "code",
   "execution_count": 9,
   "id": "98c402e8",
   "metadata": {
    "scrolled": false
   },
   "outputs": [
    {
     "data": {
      "text/plain": [
       "Text(0, 0.5, 'ElecPrice')"
      ]
     },
     "execution_count": 9,
     "metadata": {},
     "output_type": "execute_result"
    },
    {
     "data": {
      "image/png": "[encoded data removed]",
      "text/plain": [
       "<Figure size 1000x800 with 1 Axes>"
      ]
     },
     "metadata": {},
     "output_type": "display_data"
    }
   ],
   "source": [
    "#plot of the daily global_active_power over time\n",
    "plt.figure(figsize=(10,8))\n",
    "plt.plot(df_daily.index, df_daily.y, '--')\n",
    "plt.grid()\n",
    "plt.xlabel('Datetime')\n",
    "plt.ylabel('ElecPrice')"
   ]
  },
  {
   "cell_type": "markdown",
   "id": "dba8d2e9",
   "metadata": {},
   "source": [
    "# Question 12"
   ]
  },
  {
   "cell_type": "markdown",
   "id": "889a746d",
   "metadata": {},
   "source": [
    "Using the Augmented Dicky Fuller test (ADF), what is the P-value of the SysLoad and GasPrice of the resampled Data set, to 6 decimal places?"
   ]
  },
  {
   "cell_type": "code",
   "execution_count": 10,
   "id": "926f59fc",
   "metadata": {},
   "outputs": [
    {
     "name": "stdout",
     "output_type": "stream",
     "text": [
      "p-value of the SysLoad: 0.004254\n",
      "p-value of the GasPrice: 0.045027\n"
     ]
    }
   ],
   "source": [
    "#Importing the ADF library\n",
    "import statsmodels.api as sm\n",
    "from statsmodels.tsa.stattools import adfuller\n",
    "\n",
    "sysload = adfuller(df_daily['SysLoad'])\n",
    "gasprice = adfuller(df_daily['GasPrice'])\n",
    "print(f'p-value of the SysLoad: {round(sysload[1],6)}')\n",
    "print(f'p-value of the GasPrice: {round(gasprice[1],6)}')"
   ]
  },
  {
   "cell_type": "markdown",
   "id": "ba2ebc31",
   "metadata": {},
   "source": [
    "# Question 13"
   ]
  },
  {
   "cell_type": "markdown",
   "id": "f1900b10",
   "metadata": {},
   "source": [
    "Using the Augmented Dicky Fuller test (ADF) what are the 10% and 5% critical values of GasPrice and ElecPrice of the resampled Data set, to 4 decimal places?"
   ]
  },
  {
   "cell_type": "code",
   "execution_count": 11,
   "id": "1cbeb3ff",
   "metadata": {},
   "outputs": [
    {
     "name": "stdout",
     "output_type": "stream",
     "text": [
      "ADF Statistic: -2.9028\n",
      "Critical Values:\n",
      "   1%: -3.4320693157877544\n",
      "   5%: -2.8622996992165364\n",
      "   10%: -2.5671743978048323\n"
     ]
    }
   ],
   "source": [
    "# Critical Values of GasPrice\n",
    "gasprice = adfuller(df_daily['GasPrice'])\n",
    "print(f'ADF Statistic: {round(gasprice[0],4)}')\n",
    "print('Critical Values:')\n",
    "for per, val in gasprice[4].items():\n",
    "  print(f'   {per}: {val}')"
   ]
  },
  {
   "cell_type": "code",
   "execution_count": 12,
   "id": "d087fd0c",
   "metadata": {},
   "outputs": [],
   "source": [
    "df_daily.reset_index(inplace=True)"
   ]
  },
  {
   "cell_type": "code",
   "execution_count": 13,
   "id": "c9398411",
   "metadata": {},
   "outputs": [],
   "source": [
    "#Split the dataset\n",
    "train = df_daily.iloc[:2757,:]\n",
    "test = df_daily.iloc[2757:,:]"
   ]
  },
  {
   "cell_type": "code",
   "execution_count": 14,
   "id": "203f8dcc",
   "metadata": {},
   "outputs": [
    {
     "data": {
      "text/plain": [
       "(2757, 5)"
      ]
     },
     "execution_count": 14,
     "metadata": {},
     "output_type": "execute_result"
    }
   ],
   "source": [
    "train.shape"
   ]
  },
  {
   "cell_type": "code",
   "execution_count": 15,
   "id": "d75d2b7c",
   "metadata": {},
   "outputs": [
    {
     "data": {
      "text/html": [
       "<div>\n",
       "<style scoped>\n",
       "    .dataframe tbody tr th:only-of-type {\n",
       "        vertical-align: middle;\n",
       "    }\n",
       "\n",
       "    .dataframe tbody tr th {\n",
       "        vertical-align: top;\n",
       "    }\n",
       "\n",
       "    .dataframe thead th {\n",
       "        text-align: right;\n",
       "    }\n",
       "</style>\n",
       "<table border=\"1\" class=\"dataframe\">\n",
       "  <thead>\n",
       "    <tr style=\"text-align: right;\">\n",
       "      <th></th>\n",
       "      <th>ds</th>\n",
       "      <th>Tmax</th>\n",
       "      <th>SysLoad</th>\n",
       "      <th>GasPrice</th>\n",
       "      <th>y</th>\n",
       "    </tr>\n",
       "  </thead>\n",
       "  <tbody>\n",
       "    <tr>\n",
       "      <th>0</th>\n",
       "      <td>2010-09-01</td>\n",
       "      <td>379.2</td>\n",
       "      <td>41565.380</td>\n",
       "      <td>88.56</td>\n",
       "      <td>2751.700</td>\n",
       "    </tr>\n",
       "    <tr>\n",
       "      <th>1</th>\n",
       "      <td>2010-09-02</td>\n",
       "      <td>369.6</td>\n",
       "      <td>38898.990</td>\n",
       "      <td>88.56</td>\n",
       "      <td>570.810</td>\n",
       "    </tr>\n",
       "    <tr>\n",
       "      <th>2</th>\n",
       "      <td>2010-09-03</td>\n",
       "      <td>439.2</td>\n",
       "      <td>41665.760</td>\n",
       "      <td>106.80</td>\n",
       "      <td>504.975</td>\n",
       "    </tr>\n",
       "    <tr>\n",
       "      <th>3</th>\n",
       "      <td>2010-09-04</td>\n",
       "      <td>328.8</td>\n",
       "      <td>35638.085</td>\n",
       "      <td>81.36</td>\n",
       "      <td>502.275</td>\n",
       "    </tr>\n",
       "    <tr>\n",
       "      <th>4</th>\n",
       "      <td>2010-09-05</td>\n",
       "      <td>357.6</td>\n",
       "      <td>35611.410</td>\n",
       "      <td>106.80</td>\n",
       "      <td>500.555</td>\n",
       "    </tr>\n",
       "  </tbody>\n",
       "</table>\n",
       "</div>"
      ],
      "text/plain": [
       "          ds   Tmax    SysLoad  GasPrice         y\n",
       "0 2010-09-01  379.2  41565.380     88.56  2751.700\n",
       "1 2010-09-02  369.6  38898.990     88.56   570.810\n",
       "2 2010-09-03  439.2  41665.760    106.80   504.975\n",
       "3 2010-09-04  328.8  35638.085     81.36   502.275\n",
       "4 2010-09-05  357.6  35611.410    106.80   500.555"
      ]
     },
     "execution_count": 15,
     "metadata": {},
     "output_type": "execute_result"
    }
   ],
   "source": [
    "train.head()"
   ]
  },
  {
   "cell_type": "markdown",
   "id": "af615ad9",
   "metadata": {},
   "source": [
    "# Question 14 "
   ]
  },
  {
   "cell_type": "code",
   "execution_count": 20,
   "id": "050d0d78",
   "metadata": {},
   "outputs": [],
   "source": [
    "# Defining the MAPE function\n",
    "def mape(y, yfb):\n",
    "  y = y.reset_index(drop=True)\n",
    "  return round(np.mean(np.abs((y - yfb)/y)*100),2)"
   ]
  },
  {
   "cell_type": "code",
   "execution_count": null,
   "id": "6ec9e4c9",
   "metadata": {},
   "outputs": [],
   "source": []
  },
  {
   "cell_type": "code",
   "execution_count": 21,
   "id": "a8208a29",
   "metadata": {},
   "outputs": [
    {
     "ename": "ModuleNotFoundError",
     "evalue": "No module named 'fbprophet'",
     "output_type": "error",
     "traceback": [
      "\u001b[1;31m---------------------------------------------------------------------------\u001b[0m",
      "\u001b[1;31mModuleNotFoundError\u001b[0m                       Traceback (most recent call last)",
      "Cell \u001b[1;32mIn[21], line 1\u001b[0m\n\u001b[1;32m----> 1\u001b[0m \u001b[38;5;28;01mfrom\u001b[39;00m \u001b[38;5;21;01mfbprophet\u001b[39;00m \u001b[38;5;28;01mimport\u001b[39;00m Prophet\n\u001b[0;32m      2\u001b[0m \u001b[38;5;66;03m# fit train data to fb prophet model\u001b[39;00m\n\u001b[0;32m      3\u001b[0m model_1 \u001b[38;5;241m=\u001b[39m Prophet()\n",
      "\u001b[1;31mModuleNotFoundError\u001b[0m: No module named 'fbprophet'"
     ]
    }
   ],
   "source": [
    "from fbprophet import Prophet\n",
    "model_1 = Prophet()\n",
    "model_1.fit(train)"
   ]
  },
  {
   "cell_type": "code",
   "execution_count": null,
   "id": "5a811057",
   "metadata": {},
   "outputs": [],
   "source": [
    "pred1 = model_1.predict(test) \n",
    "mape(test['y'],pred1['yfb'])"
   ]
  },
  {
   "cell_type": "markdown",
   "id": "0f0f03f4",
   "metadata": {},
   "source": [
    "# Question 15 & 16"
   ]
  },
  {
   "cell_type": "code",
   "execution_count": null,
   "id": "58b4d091",
   "metadata": {},
   "outputs": [],
   "source": [
    "# Defining the RMSE function\n",
    "def rmse(y, yfb):\n",
    "    y = y.reset_index(drop=True)\n",
    "    return round(np.sqrt(np.mean(np.square(y - yfb))),2)"
   ]
  },
  {
   "cell_type": "code",
   "execution_count": null,
   "id": "37e1d948",
   "metadata": {},
   "outputs": [],
   "source": [
    "rmse(test['y'], pred1['yfb'])"
   ]
  },
  {
   "cell_type": "code",
   "execution_count": null,
   "id": "88750e66",
   "metadata": {},
   "outputs": [],
   "source": [
    "model_1.plot_components(pred1) \n",
    "plt.show()"
   ]
  },
  {
   "cell_type": "markdown",
   "id": "a326d811",
   "metadata": {},
   "source": [
    "# Question 17"
   ]
  },
  {
   "cell_type": "code",
   "execution_count": 23,
   "id": "9b6ceca9",
   "metadata": {},
   "outputs": [
    {
     "data": {
      "text/html": [
       "<div>\n",
       "<style scoped>\n",
       "    .dataframe tbody tr th:only-of-type {\n",
       "        vertical-align: middle;\n",
       "    }\n",
       "\n",
       "    .dataframe tbody tr th {\n",
       "        vertical-align: top;\n",
       "    }\n",
       "\n",
       "    .dataframe thead th {\n",
       "        text-align: right;\n",
       "    }\n",
       "</style>\n",
       "<table border=\"1\" class=\"dataframe\">\n",
       "  <thead>\n",
       "    <tr style=\"text-align: right;\">\n",
       "      <th></th>\n",
       "      <th>ds</th>\n",
       "      <th>two</th>\n",
       "      <th>one</th>\n",
       "      <th>three</th>\n",
       "      <th>y</th>\n",
       "    </tr>\n",
       "  </thead>\n",
       "  <tbody>\n",
       "    <tr>\n",
       "      <th>0</th>\n",
       "      <td>2010-09-01</td>\n",
       "      <td>379.2</td>\n",
       "      <td>41565.380</td>\n",
       "      <td>88.56</td>\n",
       "      <td>2751.700</td>\n",
       "    </tr>\n",
       "    <tr>\n",
       "      <th>1</th>\n",
       "      <td>2010-09-02</td>\n",
       "      <td>369.6</td>\n",
       "      <td>38898.990</td>\n",
       "      <td>88.56</td>\n",
       "      <td>570.810</td>\n",
       "    </tr>\n",
       "    <tr>\n",
       "      <th>2</th>\n",
       "      <td>2010-09-03</td>\n",
       "      <td>439.2</td>\n",
       "      <td>41665.760</td>\n",
       "      <td>106.80</td>\n",
       "      <td>504.975</td>\n",
       "    </tr>\n",
       "    <tr>\n",
       "      <th>3</th>\n",
       "      <td>2010-09-04</td>\n",
       "      <td>328.8</td>\n",
       "      <td>35638.085</td>\n",
       "      <td>81.36</td>\n",
       "      <td>502.275</td>\n",
       "    </tr>\n",
       "    <tr>\n",
       "      <th>4</th>\n",
       "      <td>2010-09-05</td>\n",
       "      <td>357.6</td>\n",
       "      <td>35611.410</td>\n",
       "      <td>106.80</td>\n",
       "      <td>500.555</td>\n",
       "    </tr>\n",
       "  </tbody>\n",
       "</table>\n",
       "</div>"
      ],
      "text/plain": [
       "          ds    two        one   three         y\n",
       "0 2010-09-01  379.2  41565.380   88.56  2751.700\n",
       "1 2010-09-02  369.6  38898.990   88.56   570.810\n",
       "2 2010-09-03  439.2  41665.760  106.80   504.975\n",
       "3 2010-09-04  328.8  35638.085   81.36   502.275\n",
       "4 2010-09-05  357.6  35611.410  106.80   500.555"
      ]
     },
     "execution_count": 23,
     "metadata": {},
     "output_type": "execute_result"
    }
   ],
   "source": [
    "new_df = df_daily.rename(columns={\"SysLoad\" : \"one\" , \"Tmax\" : \"two\", \"GasPrice\" : \"three\" })\n",
    "new_df.head()"
   ]
  },
  {
   "cell_type": "code",
   "execution_count": 24,
   "id": "78f62f9d",
   "metadata": {},
   "outputs": [
    {
     "name": "stdout",
     "output_type": "stream",
     "text": [
      "train shape (2757, 5)\n",
      "test shape (1077, 5)\n"
     ]
    }
   ],
   "source": [
    "# assign train and test data\n",
    "train_2 = new_df[:2757]\n",
    "test_2 = new_df[2757:]\n",
    "print('train shape', train2.shape)\n",
    "print('test shape', test2.shape)"
   ]
  },
  {
   "cell_type": "code",
   "execution_count": 30,
   "id": "5af293f8",
   "metadata": {},
   "outputs": [
    {
     "ename": "NameError",
     "evalue": "name 'Prophet' is not defined",
     "output_type": "error",
     "traceback": [
      "\u001b[1;31m---------------------------------------------------------------------------\u001b[0m",
      "\u001b[1;31mNameError\u001b[0m                                 Traceback (most recent call last)",
      "Cell \u001b[1;32mIn[30], line 2\u001b[0m\n\u001b[0;32m      1\u001b[0m \u001b[38;5;66;03m#Create multivariate model\u001b[39;00m\n\u001b[1;32m----> 2\u001b[0m model_2 \u001b[38;5;241m=\u001b[39m \u001b[43mProphet\u001b[49m()\n\u001b[0;32m      4\u001b[0m model_2\u001b[38;5;241m.\u001b[39madd_regressor(\u001b[38;5;124m'\u001b[39m\u001b[38;5;124mone\u001b[39m\u001b[38;5;124m'\u001b[39m)\n\u001b[0;32m      5\u001b[0m model_2\u001b[38;5;241m.\u001b[39madd_regressor(\u001b[38;5;124m'\u001b[39m\u001b[38;5;124mtwo\u001b[39m\u001b[38;5;124m'\u001b[39m)\n",
      "\u001b[1;31mNameError\u001b[0m: name 'Prophet' is not defined"
     ]
    }
   ],
   "source": [
    "#Create multivariate model\n",
    "model_2 = Prophet()\n",
    "\n",
    "model_2.add_regressor('one')\n",
    "model_2.add_regressor('two')\n",
    "model_2.add_regressor('three')"
   ]
  },
  {
   "cell_type": "code",
   "execution_count": 26,
   "id": "d529c103",
   "metadata": {},
   "outputs": [
    {
     "ename": "NameError",
     "evalue": "name 'model_2' is not defined",
     "output_type": "error",
     "traceback": [
      "\u001b[1;31m---------------------------------------------------------------------------\u001b[0m",
      "\u001b[1;31mNameError\u001b[0m                                 Traceback (most recent call last)",
      "Cell \u001b[1;32mIn[26], line 1\u001b[0m\n\u001b[1;32m----> 1\u001b[0m \u001b[43mmodel_2\u001b[49m\u001b[38;5;241m.\u001b[39mfit(train2)\n",
      "\u001b[1;31mNameError\u001b[0m: name 'model_2' is not defined"
     ]
    }
   ],
   "source": [
    "model_2.fit(train2)"
   ]
  },
  {
   "cell_type": "code",
   "execution_count": null,
   "id": "af4312d5",
   "metadata": {},
   "outputs": [],
   "source": [
    "#Evaluate MAPE on the test set\n",
    "pred_2 = model_2.predict(test2) \n",
    "mape(test['y'],pred_2['yfb'])"
   ]
  },
  {
   "cell_type": "code",
   "execution_count": 28,
   "id": "b9f35b0f",
   "metadata": {},
   "outputs": [
    {
     "ename": "NameError",
     "evalue": "name 'rmse' is not defined",
     "output_type": "error",
     "traceback": [
      "\u001b[1;31m---------------------------------------------------------------------------\u001b[0m",
      "\u001b[1;31mNameError\u001b[0m                                 Traceback (most recent call last)",
      "Cell \u001b[1;32mIn[28], line 2\u001b[0m\n\u001b[0;32m      1\u001b[0m \u001b[38;5;66;03m#RMSE on test set\u001b[39;00m\n\u001b[1;32m----> 2\u001b[0m \u001b[43mrmse\u001b[49m(test_2[\u001b[38;5;124m'\u001b[39m\u001b[38;5;124my\u001b[39m\u001b[38;5;124m'\u001b[39m],pred_2[\u001b[38;5;124m'\u001b[39m\u001b[38;5;124myfb\u001b[39m\u001b[38;5;124m'\u001b[39m])\n",
      "\u001b[1;31mNameError\u001b[0m: name 'rmse' is not defined"
     ]
    }
   ],
   "source": [
    "#RMSE on test set\n",
    "rmse(test_2['y'],pred_2['yfb'])"
   ]
  },
  {
   "cell_type": "code",
   "execution_count": 27,
   "id": "e7ecfccf",
   "metadata": {},
   "outputs": [
    {
     "ename": "NameError",
     "evalue": "name 'model2' is not defined",
     "output_type": "error",
     "traceback": [
      "\u001b[1;31m---------------------------------------------------------------------------\u001b[0m",
      "\u001b[1;31mNameError\u001b[0m                                 Traceback (most recent call last)",
      "Cell \u001b[1;32mIn[27], line 1\u001b[0m\n\u001b[1;32m----> 1\u001b[0m \u001b[43mmodel2\u001b[49m\u001b[38;5;241m.\u001b[39mplot_components(pred2) \n\u001b[0;32m      2\u001b[0m plt\u001b[38;5;241m.\u001b[39mshow()\n",
      "\u001b[1;31mNameError\u001b[0m: name 'model2' is not defined"
     ]
    }
   ],
   "source": [
    "model_2.plot_components(pred_2)\n",
    "plt.show()"
   ]
  },
  {
   "cell_type": "code",
   "execution_count": null,
   "id": "00d2a0d1",
   "metadata": {},
   "outputs": [],
   "source": []
  }
 ],
 "metadata": {
  "kernelspec": {
   "display_name": "Python 3 (ipykernel)",
   "language": "python",
   "name": "python3"
  },
  "language_info": {
   "codemirror_mode": {
    "name": "ipython",
    "version": 3
   },
   "file_extension": ".py",
   "mimetype": "text/x-python",
   "name": "python",
   "nbconvert_exporter": "python",
   "pygments_lexer": "ipython3",
   "version": "3.10.9"
  }
 },
 "nbformat": 4,
 "nbformat_minor": 5
}
